{
 "cells": [
  {
   "cell_type": "code",
   "execution_count": 1,
   "id": "124832d1-4462-4cf1-a2be-e897d5995704",
   "metadata": {},
   "outputs": [],
   "source": [
    "import smtplib  # For sending email via SMTP, For connecting to Gmail's server and sending the email\n",
    "import schedule  # For scheduling the email task\n",
    "import time  # To pause between checks\n",
    "from datetime import datetime  # For logging timestamps\n",
    "from email.mime.multipart import MIMEMultipart  # Email formatting\n",
    "from email.mime.text import MIMEText  # For plain text in emails\n",
    "\n",
    "# Configurable parameters\n",
    "FROM_EMAIL = \"your_email@gmail.com\"\n",
    "PASSWORD = \"your_app_password\"  # App Password generated from Google (not your main password)\n",
    "TO_EMAIL = \"to_email@gmail.com\"  # Replace with Recipient's email \n",
    "\n",
    "SUBJECT = \"EMail Automation Bot Activated\"\n",
    "BODY = \"\"\"\n",
    "Dear User,\n",
    "\n",
    "It is working. \n",
    "Bot is forwarding the Email.\n",
    "\"\"\"\n",
    "\n",
    "def send_email():  # This function creates an email based on subject and Body. And Connects to gmail SMTP Server and logs in Securely and sends the email.                              \n",
    "    print(f\"[{datetime.now()}] Sending email to {TO_EMAIL}...\")\n",
    "\n",
    "    message = MIMEMultipart()\n",
    "    message['From'] = FROM_EMAIL\n",
    "    message['To'] = TO_EMAIL\n",
    "    message['Subject'] = SUBJECT\n",
    "    message.attach(MIMEText(BODY, 'plain'))\n",
    "\n",
    "    try:\n",
    "        server = smtplib.SMTP('smtp.gmail.com', 587)\n",
    "        server.starttls()  # Secure the connection\n",
    "        server.login(FROM_EMAIL, PASSWORD)\n",
    "        server.send_message(message)\n",
    "        server.quit()\n",
    "        print(\"Email sent successfully.\\n\")\n",
    "    except Exception as e:\n",
    "        print(\"Failed to send email:\", e)\n",
    "\n",
    "# Schedule for Mon, Wed, Fri at 8:00 AM\n",
    "schedule.every().monday.at(\"08:00\").do(send_email)\n",
    "schedule.every().wednesday.at(\"08:00\").do(send_email)\n",
    "schedule.every().friday.at(\"08:00\").do(send_email)\n",
    "\n",
    "print(\"📨 Email automation bot started. Will send on Mon, Wed, and Fri at 8:00 AM.\")\n",
    "\n",
    "while True:\n",
    "    schedule.run_pending()\n",
    "    time.sleep(60)"
   ]
  },
  {
   "cell_type": "code",
   "execution_count": null,
   "id": "2acac16e-6f67-42a9-9364-871dc9a22d77",
   "metadata": {},
   "outputs": [],
   "source": []
  }
 ],
 "metadata": {
  "kernelspec": {
   "display_name": "Python 3 (ipykernel)",
   "language": "python",
   "name": "python3"
  },
  "language_info": {
   "codemirror_mode": {
    "name": "ipython",
    "version": 3
   },
   "file_extension": ".py",
   "mimetype": "text/x-python",
   "name": "python",
   "nbconvert_exporter": "python",
   "pygments_lexer": "ipython3",
   "version": "3.12.5"
  }
 },
 "nbformat": 4,
 "nbformat_minor": 5
}
